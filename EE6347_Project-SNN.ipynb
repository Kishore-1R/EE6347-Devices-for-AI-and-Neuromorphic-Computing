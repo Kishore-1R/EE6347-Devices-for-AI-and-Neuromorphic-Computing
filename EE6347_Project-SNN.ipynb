{
  "cells": [
    {
      "cell_type": "markdown",
      "metadata": {},
      "source": [
        "# EE6347 Final Project\n",
        "\n",
        "Authors: Kishore Rajendran (EE20B064), Shashidhar G Hegde (EE20B122)\n",
        "\n",
        "Image classification on the EMNIST dataset using Convolutional Spiking Neural Network (SNN)"
      ]
    },
    {
      "cell_type": "code",
      "execution_count": 1,
      "metadata": {
        "colab": {
          "base_uri": "https://localhost:8080/"
        },
        "id": "6WI4qJc-bMVd",
        "outputId": "97c2226c-452e-46f5-9e38-91e86e883043"
      },
      "outputs": [
        {
          "name": "stdout",
          "output_type": "stream",
          "text": [
            "Requirement already satisfied: snntorch in /usr/local/lib/python3.10/dist-packages (0.7.0)\n",
            "Requirement already satisfied: torch>=1.1.0 in /usr/local/lib/python3.10/dist-packages (from snntorch) (2.1.0+cu118)\n",
            "Requirement already satisfied: pandas in /usr/local/lib/python3.10/dist-packages (from snntorch) (1.5.3)\n",
            "Requirement already satisfied: matplotlib in /usr/local/lib/python3.10/dist-packages (from snntorch) (3.7.1)\n",
            "Requirement already satisfied: numpy>=1.17 in /usr/local/lib/python3.10/dist-packages (from snntorch) (1.23.5)\n",
            "Requirement already satisfied: nir in /usr/local/lib/python3.10/dist-packages (from snntorch) (0.2.0)\n",
            "Requirement already satisfied: nirtorch in /usr/local/lib/python3.10/dist-packages (from snntorch) (0.2.1)\n",
            "Requirement already satisfied: filelock in /usr/local/lib/python3.10/dist-packages (from torch>=1.1.0->snntorch) (3.13.1)\n",
            "Requirement already satisfied: typing-extensions in /usr/local/lib/python3.10/dist-packages (from torch>=1.1.0->snntorch) (4.5.0)\n",
            "Requirement already satisfied: sympy in /usr/local/lib/python3.10/dist-packages (from torch>=1.1.0->snntorch) (1.12)\n",
            "Requirement already satisfied: networkx in /usr/local/lib/python3.10/dist-packages (from torch>=1.1.0->snntorch) (3.2.1)\n",
            "Requirement already satisfied: jinja2 in /usr/local/lib/python3.10/dist-packages (from torch>=1.1.0->snntorch) (3.1.2)\n",
            "Requirement already satisfied: fsspec in /usr/local/lib/python3.10/dist-packages (from torch>=1.1.0->snntorch) (2023.6.0)\n",
            "Requirement already satisfied: triton==2.1.0 in /usr/local/lib/python3.10/dist-packages (from torch>=1.1.0->snntorch) (2.1.0)\n",
            "Requirement already satisfied: contourpy>=1.0.1 in /usr/local/lib/python3.10/dist-packages (from matplotlib->snntorch) (1.2.0)\n",
            "Requirement already satisfied: cycler>=0.10 in /usr/local/lib/python3.10/dist-packages (from matplotlib->snntorch) (0.12.1)\n",
            "Requirement already satisfied: fonttools>=4.22.0 in /usr/local/lib/python3.10/dist-packages (from matplotlib->snntorch) (4.45.1)\n",
            "Requirement already satisfied: kiwisolver>=1.0.1 in /usr/local/lib/python3.10/dist-packages (from matplotlib->snntorch) (1.4.5)\n",
            "Requirement already satisfied: packaging>=20.0 in /usr/local/lib/python3.10/dist-packages (from matplotlib->snntorch) (23.2)\n",
            "Requirement already satisfied: pillow>=6.2.0 in /usr/local/lib/python3.10/dist-packages (from matplotlib->snntorch) (9.4.0)\n",
            "Requirement already satisfied: pyparsing>=2.3.1 in /usr/local/lib/python3.10/dist-packages (from matplotlib->snntorch) (3.1.1)\n",
            "Requirement already satisfied: python-dateutil>=2.7 in /usr/local/lib/python3.10/dist-packages (from matplotlib->snntorch) (2.8.2)\n",
            "Requirement already satisfied: h5py in /usr/local/lib/python3.10/dist-packages (from nir->snntorch) (3.9.0)\n",
            "Requirement already satisfied: pytz>=2020.1 in /usr/local/lib/python3.10/dist-packages (from pandas->snntorch) (2023.3.post1)\n",
            "Requirement already satisfied: six>=1.5 in /usr/local/lib/python3.10/dist-packages (from python-dateutil>=2.7->matplotlib->snntorch) (1.16.0)\n",
            "Requirement already satisfied: MarkupSafe>=2.0 in /usr/local/lib/python3.10/dist-packages (from jinja2->torch>=1.1.0->snntorch) (2.1.3)\n",
            "Requirement already satisfied: mpmath>=0.19 in /usr/local/lib/python3.10/dist-packages (from sympy->torch>=1.1.0->snntorch) (1.3.0)\n"
          ]
        }
      ],
      "source": [
        "!pip install snntorch"
      ]
    },
    {
      "cell_type": "code",
      "execution_count": 2,
      "metadata": {
        "colab": {
          "base_uri": "https://localhost:8080/"
        },
        "id": "xJnYPDEQ4OoH",
        "outputId": "5c26879b-a2f8-42f6-9be0-4742092d0653"
      },
      "outputs": [
        {
          "name": "stderr",
          "output_type": "stream",
          "text": [
            "<ipython-input-2-7671dbc64485>:4: DeprecationWarning: The module snntorch.backprop will be deprecated in  a future release. Writing out your own training loop will lead to substantially faster performance.\n",
            "  from snntorch import backprop\n"
          ]
        }
      ],
      "source": [
        "# Importing required libraries\n",
        "import snntorch as snn\n",
        "from snntorch import surrogate\n",
        "from snntorch import backprop\n",
        "from snntorch import functional as SF\n",
        "from snntorch import utils\n",
        "from snntorch import spikeplot as splt\n",
        "from snntorch import spikegen\n",
        "\n",
        "import torch\n",
        "import torch.nn as nn\n",
        "from torch.utils.data import DataLoader\n",
        "from torchvision import datasets, transforms\n",
        "import torch.nn.functional as F\n",
        "\n",
        "import matplotlib.pyplot as plt\n",
        "import numpy as np\n",
        "import itertools"
      ]
    },
    {
      "cell_type": "markdown",
      "metadata": {
        "id": "-ZI1YAJnQcXK"
      },
      "source": [
        "# Loading and preprocessing the EMNIST dataset\n",
        "* The EMNIST 'Balanced' dataset consists of 47 classes including both numbers and letters\n",
        "* Aim: \"The EMNIST datasets therefore provide a new classification\n",
        "benchmark that contains more image samples, more output\n",
        "classes, a more challenging classification task than MNIST whilst maintaining\n",
        "its structure and nature\" - [Source paper](https://arxiv.org/pdf/1702.05373v1.pdf)\n",
        "* Since the dataset is itself large, we don't need to augment the datasets\n",
        "* A train-val split of 0.8 is used for hyperparameter tuning\n",
        "* Optimal batch size was obtained as 128"
      ]
    },
    {
      "cell_type": "code",
      "execution_count": 3,
      "metadata": {
        "colab": {
          "base_uri": "https://localhost:8080/"
        },
        "id": "nI_DS_7FNlO8",
        "outputId": "2de7257a-9896-4e2e-b033-168cd603fa3a"
      },
      "outputs": [
        {
          "name": "stdout",
          "output_type": "stream",
          "text": [
            "Size of the training dataset: 90240\n",
            "Size of the validation dataset: 22560\n",
            "Size of the test dataset: 18800\n"
          ]
        }
      ],
      "source": [
        "# Define transform to preprocess the data\n",
        "transform = transforms.Compose([\n",
        "            transforms.Resize((28, 28)),\n",
        "            transforms.Grayscale(),\n",
        "            transforms.ToTensor(),\n",
        "            transforms.Normalize((0,), (1,))])\n",
        "\n",
        "# Loading the 'balanced' split of EMNIST dataset\n",
        "emnist_dataset_train = datasets.EMNIST(root='./data', split='balanced', train=True, download=True, transform=transform)\n",
        "emnist_dataset_test = datasets.EMNIST(root='./data', split='balanced', train=False, download=True, transform=transform)\n",
        "\n",
        "# Splitting into train and validation sets\n",
        "train_val_split = 0.8\n",
        "train_size = int(train_val_split * len(emnist_dataset_train))\n",
        "val_size = len(emnist_dataset_train) - train_size\n",
        "\n",
        "train_dataset, val_dataset = torch.utils.data.random_split(emnist_dataset_train, [train_size, val_size])\n",
        "\n",
        "# Creating data loaders\n",
        "batch_size = 128\n",
        "train_loader = torch.utils.data.DataLoader(train_dataset, batch_size=batch_size, shuffle=True, drop_last = True)\n",
        "val_loader = torch.utils.data.DataLoader(val_dataset, batch_size=batch_size, shuffle=False, drop_last = True)\n",
        "test_loader = torch.utils.data.DataLoader(emnist_dataset_test, batch_size=batch_size, shuffle=True, drop_last = True)\n",
        "\n",
        "# Printing sizes of the datasets\n",
        "print(f\"Size of the training dataset: {len(train_loader.dataset)}\")\n",
        "print(f\"Size of the validation dataset: {len(val_loader.dataset)}\")\n",
        "print(f\"Size of the test dataset: {len(test_loader.dataset)}\")"
      ]
    },
    {
      "cell_type": "code",
      "execution_count": 8,
      "metadata": {
        "colab": {
          "base_uri": "https://localhost:8080/",
          "height": 465
        },
        "id": "Lk5_jsiQf-fz",
        "outputId": "cf8cf87e-3c71-4ecb-980c-7eda3f176a17"
      },
      "outputs": [
        {
          "name": "stdout",
          "output_type": "stream",
          "text": [
            "torch.Size([128, 1, 28, 28])\n",
            "Target class label: 44\n"
          ]
        },
        {
          "data": {
            "image/png": "[encoded data removed]",
            "text/plain": [
              "<Figure size 640x480 with 1 Axes>"
            ]
          },
          "metadata": {},
          "output_type": "display_data"
        }
      ],
      "source": [
        "# Visualizing the test dataset\n",
        "examples = enumerate(test_loader)\n",
        "batch_idx, (data, targets) = list(examples)[0]\n",
        "\n",
        "print(data.shape)\n",
        "idx = 101\n",
        "plt.imshow(data[idx][0],cmap='gray')\n",
        "print(f\"Target class label: {targets[idx]}\")"
      ]
    },
    {
      "cell_type": "markdown",
      "metadata": {
        "id": "6SnTSx3AgNN5"
      },
      "source": [
        "# Defining the model architecture, Converting the data to spiking data\n",
        "\n",
        "* Upon carefully experimenting with various surrogate functions and beta values, we have arrived at a set of optimal values for our neuron.\n",
        "\n",
        "* Also, after comparing Rate coding, Latency coding and Delta modulation, we find that rate coding our data to create spiking data with num_steps = 10, gives us the highest accuracy\n",
        "\n",
        "* The architecture of the convolutional SNN designed is inspired by the popular LeNet architecture"
      ]
    },
    {
      "cell_type": "code",
      "execution_count": 5,
      "metadata": {
        "colab": {
          "base_uri": "https://localhost:8080/"
        },
        "id": "Q50AZ0IDOotB",
        "outputId": "3498c6ff-12bc-45e7-b162-9ddb4d6bf4af"
      },
      "outputs": [
        {
          "name": "stdout",
          "output_type": "stream",
          "text": [
            "torch.Size([128, 1, 28, 28])\n",
            "torch.Size([10, 128, 1, 28, 28])\n"
          ]
        }
      ],
      "source": [
        "device = torch.device(\"cuda\") if torch.cuda.is_available() else torch.device(\"cpu\")\n",
        "# Neuron and simulation parameters\n",
        "spike_grad = surrogate.atan(alpha=0.2)\n",
        "beta = 0.2\n",
        "num_steps = 10\n",
        "\n",
        "# Defining the network architecture\n",
        "net = nn.Sequential(nn.Conv2d(1, 12, 5),\n",
        "                    nn.BatchNorm2d(12),\n",
        "                    nn.MaxPool2d(2),\n",
        "                    snn.Leaky(beta=beta, spike_grad=spike_grad, init_hidden=True),\n",
        "                    nn.Conv2d(12, 64, 5),\n",
        "                    nn.BatchNorm2d(64),\n",
        "                    nn.MaxPool2d(2),\n",
        "                    snn.Leaky(beta=beta, spike_grad=spike_grad, init_hidden=True),\n",
        "                    nn.Flatten(),\n",
        "                    nn.Dropout(0.2),\n",
        "                    nn.Linear(64*4*4, 64*4),\n",
        "                    snn.Leaky(beta=beta, spike_grad=spike_grad, init_hidden=True),\n",
        "                    nn.Dropout(0.2),\n",
        "                    nn.Linear(64*4, 47),\n",
        "                    snn.Leaky(beta=beta, spike_grad=spike_grad, init_hidden=True, output=True)\n",
        "                    ).to(device)\n",
        "\n",
        "data, targets = next(iter(train_loader))\n",
        "# Encoding the data using rate encoding\n",
        "spike_data = spikegen.rate(data, num_steps=num_steps)\n",
        "spike_data = spike_data.to(device)\n",
        "print(data.size())\n",
        "print(spike_data.size())\n",
        "targets = targets.to(device)\n",
        "\n",
        "for step in range(num_steps):\n",
        "    spk_out, mem_out = net(data)\n",
        "\n",
        "# Forward pass\n",
        "def forward_pass(net, num_steps, spike_data):\n",
        "  mem_rec = []\n",
        "  spk_rec = []\n",
        "  utils.reset(net)  # resets hidden states for all LIF neurons in net\n",
        "\n",
        "  for step in range(num_steps):\n",
        "      spk_out, mem_out = net(spike_data[step])\n",
        "      spk_rec.append(spk_out)\n",
        "      mem_rec.append(mem_out)\n",
        "\n",
        "  return torch.stack(spk_rec), torch.stack(mem_rec)"
      ]
    },
    {
      "cell_type": "markdown",
      "metadata": {
        "id": "a_l5Jzjkfw_o"
      },
      "source": [
        "Upon trying all the possible loss functions provided by snntorch, we found mse_count_loss() to work the best"
      ]
    },
    {
      "cell_type": "code",
      "execution_count": 7,
      "metadata": {
        "id": "KtMbtKM7WEs8"
      },
      "outputs": [],
      "source": [
        "loss_fn = SF.mse_count_loss()"
      ]
    },
    {
      "cell_type": "code",
      "execution_count": 9,
      "metadata": {
        "id": "sIEAEAhVQttF"
      },
      "outputs": [],
      "source": [
        "# Defining the function for accuracy calculation\n",
        "def batch_accuracy(train_loader, net, num_steps):\n",
        "  with torch.no_grad():\n",
        "    total = 0\n",
        "    acc = 0\n",
        "    net.eval()\n",
        "\n",
        "    train_loader = iter(train_loader)\n",
        "    for data, targets in train_loader:\n",
        "      spike_data = spikegen.rate(data, num_steps=num_steps)\n",
        "      spike_data = spike_data.to(device)\n",
        "      targets = targets.to(device)\n",
        "      spk_rec, _ = forward_pass(net, num_steps, spike_data)\n",
        "\n",
        "      acc += SF.accuracy_rate(spk_rec, targets) * spk_rec.size(1)\n",
        "      total += spk_rec.size(1)\n",
        "\n",
        "  return acc/total"
      ]
    },
    {
      "cell_type": "markdown",
      "metadata": {
        "id": "dX1FK3cxRRP1"
      },
      "source": [
        "# The training loop\n",
        "* Since each epoch takes a lot of time to run, we run only for 15 epochs\n",
        "* After trying a couple of optimizers, we realized that the Adam optimizer works best in this case"
      ]
    },
    {
      "cell_type": "code",
      "execution_count": 10,
      "metadata": {
        "colab": {
          "base_uri": "https://localhost:8080/"
        },
        "id": "SmoJSztzRNwj",
        "outputId": "ffbd3a3f-e69f-479e-925e-fde7a78bc236"
      },
      "outputs": [
        {
          "name": "stdout",
          "output_type": "stream",
          "text": [
            "Iteration 0, Train Acc: 3.12 , Val Acc: 2.45%\n",
            "\n",
            "Iteration 100, Train Acc: 41.43 , Val Acc: 68.21%\n",
            "\n",
            "Iteration 200, Train Acc: 57.00 , Val Acc: 77.16%\n",
            "\n",
            "Iteration 300, Train Acc: 64.28 , Val Acc: 80.41%\n",
            "\n",
            "Iteration 400, Train Acc: 68.34 , Val Acc: 82.17%\n",
            "\n",
            "Iteration 500, Train Acc: 71.03 , Val Acc: 83.49%\n",
            "\n",
            "Iteration 600, Train Acc: 72.97 , Val Acc: 83.58%\n",
            "\n",
            "Iteration 700, Train Acc: 74.47 , Val Acc: 84.73%\n",
            "\n",
            "Iteration 800, Train Acc: 75.66 , Val Acc: 85.35%\n",
            "\n",
            "Iteration 900, Train Acc: 76.63 , Val Acc: 85.08%\n",
            "\n",
            "Iteration 1000, Train Acc: 77.47 , Val Acc: 85.51%\n",
            "\n",
            "Iteration 1100, Train Acc: 78.21 , Val Acc: 85.59%\n",
            "\n",
            "Iteration 1200, Train Acc: 78.82 , Val Acc: 85.85%\n",
            "\n",
            "Iteration 1300, Train Acc: 79.35 , Val Acc: 85.81%\n",
            "\n",
            "Iteration 1400, Train Acc: 79.85 , Val Acc: 86.01%\n",
            "\n",
            "Iteration 1500, Train Acc: 80.26 , Val Acc: 85.78%\n",
            "\n",
            "Iteration 1600, Train Acc: 80.61 , Val Acc: 86.63%\n",
            "\n",
            "Iteration 1700, Train Acc: 80.93 , Val Acc: 86.25%\n",
            "\n",
            "Iteration 1800, Train Acc: 81.25 , Val Acc: 86.59%\n",
            "\n",
            "Iteration 1900, Train Acc: 81.54 , Val Acc: 86.07%\n",
            "\n",
            "Iteration 2000, Train Acc: 81.80 , Val Acc: 86.42%\n",
            "\n",
            "Iteration 2100, Train Acc: 82.07 , Val Acc: 86.37%\n",
            "\n",
            "Iteration 2200, Train Acc: 82.31 , Val Acc: 87.00%\n",
            "\n",
            "Iteration 2300, Train Acc: 82.52 , Val Acc: 86.79%\n",
            "\n",
            "Iteration 2400, Train Acc: 82.72 , Val Acc: 86.97%\n",
            "\n",
            "Iteration 2500, Train Acc: 82.89 , Val Acc: 86.66%\n",
            "\n",
            "Iteration 2600, Train Acc: 83.07 , Val Acc: 86.80%\n",
            "\n",
            "Iteration 2700, Train Acc: 83.24 , Val Acc: 87.03%\n",
            "\n",
            "Iteration 2800, Train Acc: 83.40 , Val Acc: 87.44%\n",
            "\n",
            "Iteration 2900, Train Acc: 83.55 , Val Acc: 87.42%\n",
            "\n",
            "Iteration 3000, Train Acc: 83.70 , Val Acc: 87.30%\n",
            "\n",
            "Iteration 3100, Train Acc: 83.85 , Val Acc: 87.04%\n",
            "\n",
            "Iteration 3200, Train Acc: 83.99 , Val Acc: 86.78%\n",
            "\n",
            "Iteration 3300, Train Acc: 84.12 , Val Acc: 87.12%\n",
            "\n",
            "Iteration 3400, Train Acc: 84.25 , Val Acc: 87.31%\n",
            "\n",
            "Iteration 3500, Train Acc: 84.34 , Val Acc: 87.37%\n",
            "\n",
            "Iteration 3600, Train Acc: 84.47 , Val Acc: 87.50%\n",
            "\n",
            "Iteration 3700, Train Acc: 84.57 , Val Acc: 87.31%\n",
            "\n",
            "Iteration 3800, Train Acc: 84.68 , Val Acc: 87.46%\n",
            "\n",
            "Iteration 3900, Train Acc: 84.77 , Val Acc: 87.36%\n",
            "\n",
            "Iteration 4000, Train Acc: 84.85 , Val Acc: 87.79%\n",
            "\n",
            "Iteration 4100, Train Acc: 84.95 , Val Acc: 87.63%\n",
            "\n",
            "Iteration 4200, Train Acc: 85.03 , Val Acc: 87.89%\n",
            "\n",
            "Iteration 4300, Train Acc: 85.12 , Val Acc: 87.67%\n",
            "\n",
            "Iteration 4400, Train Acc: 85.21 , Val Acc: 87.64%\n",
            "\n",
            "Iteration 4500, Train Acc: 85.29 , Val Acc: 87.62%\n",
            "\n",
            "Iteration 4600, Train Acc: 85.37 , Val Acc: 87.74%\n",
            "\n",
            "Iteration 4700, Train Acc: 85.45 , Val Acc: 87.81%\n",
            "\n",
            "Iteration 4800, Train Acc: 85.52 , Val Acc: 87.93%\n",
            "\n",
            "Iteration 4900, Train Acc: 85.58 , Val Acc: 87.65%\n",
            "\n",
            "Iteration 5000, Train Acc: 85.65 , Val Acc: 87.91%\n",
            "\n",
            "Iteration 5100, Train Acc: 85.72 , Val Acc: 87.60%\n",
            "\n",
            "Iteration 5200, Train Acc: 85.78 , Val Acc: 87.69%\n",
            "\n",
            "Iteration 5300, Train Acc: 85.85 , Val Acc: 87.70%\n",
            "\n",
            "Iteration 5400, Train Acc: 85.92 , Val Acc: 87.82%\n",
            "\n",
            "Iteration 5500, Train Acc: 85.98 , Val Acc: 87.85%\n",
            "\n",
            "Iteration 5600, Train Acc: 86.04 , Val Acc: 88.33%\n",
            "\n",
            "Iteration 5700, Train Acc: 86.09 , Val Acc: 87.86%\n",
            "\n",
            "Iteration 5800, Train Acc: 86.16 , Val Acc: 87.96%\n",
            "\n",
            "Iteration 5900, Train Acc: 86.22 , Val Acc: 87.49%\n",
            "\n",
            "Iteration 6000, Train Acc: 86.28 , Val Acc: 88.20%\n",
            "\n",
            "Iteration 6100, Train Acc: 86.33 , Val Acc: 87.84%\n",
            "\n",
            "Iteration 6200, Train Acc: 86.38 , Val Acc: 88.00%\n",
            "\n",
            "Iteration 6300, Train Acc: 86.42 , Val Acc: 87.90%\n",
            "\n",
            "Iteration 6400, Train Acc: 86.47 , Val Acc: 87.57%\n",
            "\n",
            "Iteration 6500, Train Acc: 86.53 , Val Acc: 87.92%\n",
            "\n",
            "Iteration 6600, Train Acc: 86.58 , Val Acc: 88.03%\n",
            "\n",
            "Iteration 6700, Train Acc: 86.63 , Val Acc: 87.63%\n",
            "\n",
            "Iteration 6800, Train Acc: 86.68 , Val Acc: 87.80%\n",
            "\n",
            "Iteration 6900, Train Acc: 86.72 , Val Acc: 87.97%\n",
            "\n",
            "Iteration 7000, Train Acc: 86.77 , Val Acc: 88.13%\n",
            "\n",
            "Iteration 7100, Train Acc: 86.81 , Val Acc: 88.26%\n",
            "\n",
            "Iteration 7200, Train Acc: 86.86 , Val Acc: 87.88%\n",
            "\n",
            "Iteration 7300, Train Acc: 86.90 , Val Acc: 87.90%\n",
            "\n",
            "Iteration 7400, Train Acc: 86.94 , Val Acc: 87.79%\n",
            "\n",
            "Iteration 7500, Train Acc: 86.99 , Val Acc: 88.29%\n",
            "\n",
            "Iteration 7600, Train Acc: 87.02 , Val Acc: 88.26%\n",
            "\n",
            "Iteration 7700, Train Acc: 87.06 , Val Acc: 88.46%\n",
            "\n",
            "Iteration 7800, Train Acc: 87.10 , Val Acc: 88.20%\n",
            "\n",
            "Iteration 7900, Train Acc: 87.15 , Val Acc: 88.29%\n",
            "\n",
            "Iteration 8000, Train Acc: 87.19 , Val Acc: 87.97%\n",
            "\n",
            "Iteration 8100, Train Acc: 87.23 , Val Acc: 87.91%\n",
            "\n",
            "Iteration 8200, Train Acc: 87.27 , Val Acc: 88.20%\n",
            "\n",
            "Iteration 8300, Train Acc: 87.31 , Val Acc: 88.11%\n",
            "\n",
            "Iteration 8400, Train Acc: 87.34 , Val Acc: 88.04%\n",
            "\n",
            "Iteration 8500, Train Acc: 87.38 , Val Acc: 88.22%\n",
            "\n",
            "Iteration 8600, Train Acc: 87.41 , Val Acc: 88.16%\n",
            "\n",
            "Iteration 8700, Train Acc: 87.45 , Val Acc: 88.22%\n",
            "\n",
            "Iteration 8800, Train Acc: 87.49 , Val Acc: 88.19%\n",
            "\n",
            "Iteration 8900, Train Acc: 87.52 , Val Acc: 88.21%\n",
            "\n",
            "Iteration 9000, Train Acc: 87.56 , Val Acc: 88.13%\n",
            "\n",
            "Iteration 9100, Train Acc: 87.59 , Val Acc: 87.91%\n",
            "\n",
            "Iteration 9200, Train Acc: 87.62 , Val Acc: 88.56%\n",
            "\n",
            "Iteration 9300, Train Acc: 87.66 , Val Acc: 88.39%\n",
            "\n",
            "Iteration 9400, Train Acc: 87.69 , Val Acc: 88.17%\n",
            "\n",
            "Iteration 9500, Train Acc: 87.73 , Val Acc: 88.21%\n",
            "\n",
            "Iteration 9600, Train Acc: 87.75 , Val Acc: 88.23%\n",
            "\n",
            "Iteration 9700, Train Acc: 87.79 , Val Acc: 88.19%\n",
            "\n",
            "Iteration 9800, Train Acc: 87.82 , Val Acc: 87.50%\n",
            "\n",
            "Iteration 9900, Train Acc: 87.85 , Val Acc: 88.25%\n",
            "\n",
            "Iteration 10000, Train Acc: 87.89 , Val Acc: 88.28%\n",
            "\n",
            "Iteration 10100, Train Acc: 87.93 , Val Acc: 88.41%\n",
            "\n",
            "Iteration 10200, Train Acc: 87.96 , Val Acc: 88.28%\n",
            "\n",
            "Iteration 10300, Train Acc: 87.99 , Val Acc: 88.35%\n",
            "\n",
            "Iteration 10400, Train Acc: 88.02 , Val Acc: 88.14%\n",
            "\n",
            "Iteration 10500, Train Acc: 88.05 , Val Acc: 88.13%\n",
            "\n"
          ]
        }
      ],
      "source": [
        "optimizer = torch.optim.Adam(net.parameters(), lr=1e-2, betas=(0.9, 0.999))\n",
        "num_epochs = 15\n",
        "loss_hist = []\n",
        "train_acc_hist = []\n",
        "test_acc_hist = []\n",
        "counter = 0\n",
        "total = 0\n",
        "train_acc = 0\n",
        "iter_train_acc = 0\n",
        "\n",
        "# Outer training loop\n",
        "for epoch in range(num_epochs):\n",
        "\n",
        "    #Training loop\n",
        "    for data, targets in iter(train_loader):\n",
        "        spike_data = spikegen.rate(data, num_steps=num_steps)\n",
        "        spike_data = spike_data.to(device)\n",
        "        targets = targets.to(device)\n",
        "\n",
        "        # forward pass\n",
        "        net.train()\n",
        "        spk_rec, _ = forward_pass(net, num_steps, spike_data)\n",
        "\n",
        "        iter_train_acc += SF.accuracy_rate(spk_rec, targets) * spk_rec.size(1)\n",
        "        total += spk_rec.size(1)\n",
        "        train_acc = iter_train_acc/total\n",
        "        train_acc_hist.append(train_acc)\n",
        "\n",
        "        # initialize the loss & sum over time\n",
        "        loss_val = loss_fn(spk_rec, targets)\n",
        "\n",
        "        # Gradient calculation + weight update\n",
        "        optimizer.zero_grad()\n",
        "        loss_val.backward()\n",
        "        optimizer.step()\n",
        "\n",
        "        # Store loss history for future plotting\n",
        "        loss_hist.append(loss_val.item())\n",
        "\n",
        "        # Test set\n",
        "        if counter % 100 == 0:\n",
        "          with torch.no_grad():\n",
        "              net.eval()\n",
        "\n",
        "              # Test set forward pass\n",
        "              test_acc = batch_accuracy(val_loader, net, num_steps)\n",
        "              print(f\"Iteration {counter}, Train Acc: {train_acc * 100:.2f} , Val Acc: {test_acc * 100:.2f}%\\n\")\n",
        "              test_acc_hist.append(test_acc.item())\n",
        "\n",
        "        counter += 1"
      ]
    },
    {
      "cell_type": "markdown",
      "metadata": {
        "id": "cwTHZIILlWxy"
      },
      "source": [
        "[EMNIST-Balanced Test Accuracies](https://paperswithcode.com/sota/image-classification-on-emnist-balanced)\n",
        "\n",
        "\n",
        "The attached link shows us that our accuracy is quite high and that the convolutional SNN is performing well.\n",
        "\n",
        "As seen below, the final test accuracy obtained is 88.37%"
      ]
    },
    {
      "cell_type": "code",
      "execution_count": 11,
      "metadata": {
        "colab": {
          "base_uri": "https://localhost:8080/"
        },
        "id": "tu_HO2WMZq-w",
        "outputId": "c3e3ec1d-efe7-4669-e92b-7f50cbb3a948"
      },
      "outputs": [
        {
          "name": "stdout",
          "output_type": "stream",
          "text": [
            " Test Acc: 88.37%\n",
            "\n"
          ]
        }
      ],
      "source": [
        "with torch.no_grad():\n",
        "  net.eval()\n",
        "  # Test set forward pass\n",
        "  test_acc = batch_accuracy(val_loader, net, num_steps)\n",
        "  print(f\" Test Acc: {test_acc * 100:.2f}%\\n\")\n",
        "  test_acc_hist.append(test_acc.item())"
      ]
    },
    {
      "cell_type": "markdown",
      "metadata": {
        "id": "WOY-ejxSxyAp"
      },
      "source": [
        "# Plotting Training Loss and Accuracy"
      ]
    },
    {
      "cell_type": "code",
      "execution_count": 16,
      "metadata": {
        "colab": {
          "base_uri": "https://localhost:8080/",
          "height": 472
        },
        "id": "q6wMmwy_fjfn",
        "outputId": "50c68ab6-dfbb-4977-85e3-817d9f6de563"
      },
      "outputs": [
        {
          "data": {
            "image/png": "[encoded data removed]",
            "text/plain": [
              "<Figure size 640x480 with 1 Axes>"
            ]
          },
          "metadata": {},
          "output_type": "display_data"
        }
      ],
      "source": [
        "# Training Loss vs iterations plot\n",
        "plt.plot(loss_hist)\n",
        "plt.xlabel('No. of iterations')\n",
        "plt.ylabel('Loss')\n",
        "plt.title(\"Training loss\")\n",
        "plt.show()"
      ]
    },
    {
      "cell_type": "code",
      "execution_count": 18,
      "metadata": {
        "colab": {
          "base_uri": "https://localhost:8080/",
          "height": 472
        },
        "id": "ZZ9d7jJ5xvvT",
        "outputId": "e725ee86-30ae-40c2-8894-472411037878"
      },
      "outputs": [
        {
          "data": {
            "image/png": "[encoded data removed]",
            "text/plain": [
              "<Figure size 640x480 with 1 Axes>"
            ]
          },
          "metadata": {},
          "output_type": "display_data"
        }
      ],
      "source": [
        "# Training Accuracy vs iterations plot\n",
        "plt.plot(train_acc_hist)\n",
        "plt.xlabel('No. of iterations')\n",
        "plt.ylabel('Accuracy')\n",
        "plt.title(\"Training Accuracy\")\n",
        "plt.show()"
      ]
    }
  ],
  "metadata": {
    "colab": {
      "provenance": []
    },
    "kernelspec": {
      "display_name": "Python 3",
      "name": "python3"
    },
    "language_info": {
      "name": "python"
    }
  },
  "nbformat": 4,
  "nbformat_minor": 0
}
